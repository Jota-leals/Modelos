{
 "cells": [
  {
   "cell_type": "code",
   "execution_count": 13,
   "id": "74cc5a3d",
   "metadata": {},
   "outputs": [],
   "source": [
    "import pandas as pd\n",
    "import numpy as np\n",
    "import statsmodels.api as sm\n",
    "from lifelines import ExponentialFitter, WeibullFitter, CoxPHFitter\n"
   ]
  },
  {
   "cell_type": "code",
   "execution_count": 22,
   "id": "b3071748",
   "metadata": {},
   "outputs": [],
   "source": [
    "%store -r df_final"
   ]
  },
  {
   "cell_type": "code",
   "execution_count": 23,
   "id": "a6c8fbae",
   "metadata": {},
   "outputs": [
    {
     "data": {
      "application/vnd.microsoft.datawrangler.viewer.v0+json": {
       "columns": [
        {
         "name": "index",
         "rawType": "int64",
         "type": "integer"
        },
        {
         "name": "region",
         "rawType": "object",
         "type": "string"
        },
        {
         "name": "start_date",
         "rawType": "datetime64[ns]",
         "type": "datetime"
        },
        {
         "name": "end_date",
         "rawType": "datetime64[ns]",
         "type": "datetime"
        },
        {
         "name": "duration_quarters",
         "rawType": "float64",
         "type": "float"
        },
        {
         "name": "event",
         "rawType": "int64",
         "type": "integer"
        },
        {
         "name": "GDP",
         "rawType": "float64",
         "type": "float"
        },
        {
         "name": "Personal_Income",
         "rawType": "float64",
         "type": "float"
        }
       ],
       "ref": "b51e9d02-caa0-4087-94c9-3cd0015d7088",
       "rows": [
        [
         "0",
         "Centro",
         "2008-07-01 00:00:00",
         "2012-01-01 00:00:00",
         "14.21",
         "1",
         "12.493619894592829",
         "12.192283436079483"
        ],
        [
         "1",
         "Este",
         "2008-04-01 00:00:00",
         "2012-04-01 00:00:00",
         "16.23",
         "1",
         "13.017098645852505",
         "12.774096205264277"
        ],
        [
         "2",
         "Norte",
         "2008-04-01 00:00:00",
         "2012-01-01 00:00:00",
         "15.22",
         "1",
         "12.759839618358948",
         "12.494905894481784"
        ],
        [
         "3",
         "Oeste",
         "2008-04-01 00:00:00",
         "2012-04-01 00:00:00",
         "16.23",
         "1",
         "12.705061188077638",
         "12.404716218666964"
        ],
        [
         "4",
         "Sur",
         "2008-07-01 00:00:00",
         "2012-04-01 00:00:00",
         "15.22",
         "1",
         "12.8761635108639",
         "12.595932869607488"
        ]
       ],
       "shape": {
        "columns": 7,
        "rows": 5
       }
      },
      "text/html": [
       "<div>\n",
       "<style scoped>\n",
       "    .dataframe tbody tr th:only-of-type {\n",
       "        vertical-align: middle;\n",
       "    }\n",
       "\n",
       "    .dataframe tbody tr th {\n",
       "        vertical-align: top;\n",
       "    }\n",
       "\n",
       "    .dataframe thead th {\n",
       "        text-align: right;\n",
       "    }\n",
       "</style>\n",
       "<table border=\"1\" class=\"dataframe\">\n",
       "  <thead>\n",
       "    <tr style=\"text-align: right;\">\n",
       "      <th></th>\n",
       "      <th>region</th>\n",
       "      <th>start_date</th>\n",
       "      <th>end_date</th>\n",
       "      <th>duration_quarters</th>\n",
       "      <th>event</th>\n",
       "      <th>GDP</th>\n",
       "      <th>Personal_Income</th>\n",
       "    </tr>\n",
       "  </thead>\n",
       "  <tbody>\n",
       "    <tr>\n",
       "      <th>0</th>\n",
       "      <td>Centro</td>\n",
       "      <td>2008-07-01</td>\n",
       "      <td>2012-01-01</td>\n",
       "      <td>14.21</td>\n",
       "      <td>1</td>\n",
       "      <td>12.493620</td>\n",
       "      <td>12.192283</td>\n",
       "    </tr>\n",
       "    <tr>\n",
       "      <th>1</th>\n",
       "      <td>Este</td>\n",
       "      <td>2008-04-01</td>\n",
       "      <td>2012-04-01</td>\n",
       "      <td>16.23</td>\n",
       "      <td>1</td>\n",
       "      <td>13.017099</td>\n",
       "      <td>12.774096</td>\n",
       "    </tr>\n",
       "    <tr>\n",
       "      <th>2</th>\n",
       "      <td>Norte</td>\n",
       "      <td>2008-04-01</td>\n",
       "      <td>2012-01-01</td>\n",
       "      <td>15.22</td>\n",
       "      <td>1</td>\n",
       "      <td>12.759840</td>\n",
       "      <td>12.494906</td>\n",
       "    </tr>\n",
       "    <tr>\n",
       "      <th>3</th>\n",
       "      <td>Oeste</td>\n",
       "      <td>2008-04-01</td>\n",
       "      <td>2012-04-01</td>\n",
       "      <td>16.23</td>\n",
       "      <td>1</td>\n",
       "      <td>12.705061</td>\n",
       "      <td>12.404716</td>\n",
       "    </tr>\n",
       "    <tr>\n",
       "      <th>4</th>\n",
       "      <td>Sur</td>\n",
       "      <td>2008-07-01</td>\n",
       "      <td>2012-04-01</td>\n",
       "      <td>15.22</td>\n",
       "      <td>1</td>\n",
       "      <td>12.876164</td>\n",
       "      <td>12.595933</td>\n",
       "    </tr>\n",
       "  </tbody>\n",
       "</table>\n",
       "</div>"
      ],
      "text/plain": [
       "   region start_date   end_date  duration_quarters  event        GDP  \\\n",
       "0  Centro 2008-07-01 2012-01-01              14.21      1  12.493620   \n",
       "1    Este 2008-04-01 2012-04-01              16.23      1  13.017099   \n",
       "2   Norte 2008-04-01 2012-01-01              15.22      1  12.759840   \n",
       "3   Oeste 2008-04-01 2012-04-01              16.23      1  12.705061   \n",
       "4     Sur 2008-07-01 2012-04-01              15.22      1  12.876164   \n",
       "\n",
       "   Personal_Income  \n",
       "0        12.192283  \n",
       "1        12.774096  \n",
       "2        12.494906  \n",
       "3        12.404716  \n",
       "4        12.595933  "
      ]
     },
     "execution_count": 23,
     "metadata": {},
     "output_type": "execute_result"
    }
   ],
   "source": [
    "df_final"
   ]
  },
  {
   "cell_type": "code",
   "execution_count": 25,
   "id": "34e4cac1",
   "metadata": {},
   "outputs": [
    {
     "data": {
      "text/html": [
       "<div>\n",
       "<style scoped>\n",
       "    .dataframe tbody tr th:only-of-type {\n",
       "        vertical-align: middle;\n",
       "    }\n",
       "\n",
       "    .dataframe tbody tr th {\n",
       "        vertical-align: top;\n",
       "    }\n",
       "\n",
       "    .dataframe thead th {\n",
       "        text-align: right;\n",
       "    }\n",
       "</style>\n",
       "<table border=\"1\" class=\"dataframe\">\n",
       "  <tbody>\n",
       "    <tr>\n",
       "      <th>model</th>\n",
       "      <td>lifelines.ExponentialFitter</td>\n",
       "    </tr>\n",
       "    <tr>\n",
       "      <th>number of observations</th>\n",
       "      <td>5</td>\n",
       "    </tr>\n",
       "    <tr>\n",
       "      <th>number of events observed</th>\n",
       "      <td>5</td>\n",
       "    </tr>\n",
       "    <tr>\n",
       "      <th>log-likelihood</th>\n",
       "      <td>-18.68</td>\n",
       "    </tr>\n",
       "    <tr>\n",
       "      <th>hypothesis</th>\n",
       "      <td>lambda_ != 0</td>\n",
       "    </tr>\n",
       "  </tbody>\n",
       "</table>\n",
       "</div><table border=\"1\" class=\"dataframe\">\n",
       "  <thead>\n",
       "    <tr style=\"text-align: right;\">\n",
       "      <th style=\"min-width: 12px;\"></th>\n",
       "      <th style=\"min-width: 12px;\">coef</th>\n",
       "      <th style=\"min-width: 12px;\">se(coef)</th>\n",
       "      <th style=\"min-width: 12px;\">coef lower 95%</th>\n",
       "      <th style=\"min-width: 12px;\">coef upper 95%</th>\n",
       "      <th style=\"min-width: 12px;\">cmp to</th>\n",
       "      <th style=\"min-width: 12px;\">z</th>\n",
       "      <th style=\"min-width: 12px;\">p</th>\n",
       "      <th style=\"min-width: 12px;\">-log2(p)</th>\n",
       "    </tr>\n",
       "  </thead>\n",
       "  <tbody>\n",
       "    <tr>\n",
       "      <th>lambda_</th>\n",
       "      <td>15.42</td>\n",
       "      <td>6.90</td>\n",
       "      <td>1.90</td>\n",
       "      <td>28.94</td>\n",
       "      <td>0.00</td>\n",
       "      <td>2.24</td>\n",
       "      <td>0.03</td>\n",
       "      <td>5.30</td>\n",
       "    </tr>\n",
       "  </tbody>\n",
       "</table><br><div>\n",
       "<style scoped>\n",
       "    .dataframe tbody tr th:only-of-type {\n",
       "        vertical-align: middle;\n",
       "    }\n",
       "\n",
       "    .dataframe tbody tr th {\n",
       "        vertical-align: top;\n",
       "    }\n",
       "\n",
       "    .dataframe thead th {\n",
       "        text-align: right;\n",
       "    }\n",
       "</style>\n",
       "<table border=\"1\" class=\"dataframe\">\n",
       "  <tbody>\n",
       "    <tr>\n",
       "      <th>AIC</th>\n",
       "      <td>39.36</td>\n",
       "    </tr>\n",
       "  </tbody>\n",
       "</table>\n",
       "</div>"
      ],
      "text/latex": [
       "\\begin{tabular}{lrrrrrrrr}\n",
       " & coef & se(coef) & coef lower 95% & coef upper 95% & cmp to & z & p & -log2(p) \\\\\n",
       "lambda_ & 15.42 & 6.90 & 1.90 & 28.94 & 0.00 & 2.24 & 0.03 & 5.30 \\\\\n",
       "\\end{tabular}\n"
      ],
      "text/plain": [
       "<lifelines.ExponentialFitter:\"Exponential_estimate\", fitted with 5 total observations, 0 right-censored observations>\n",
       "   number of observations = 5\n",
       "number of events observed = 5\n",
       "           log-likelihood = -18.68\n",
       "               hypothesis = lambda_ != 0\n",
       "\n",
       "---\n",
       "         coef  se(coef)  coef lower 95%  coef upper 95%\n",
       "lambda_ 15.42      6.90            1.90           28.94\n",
       "\n",
       "         cmp to    z    p  -log2(p)\n",
       "lambda_    0.00 2.24 0.03      5.30\n",
       "---\n",
       "AIC = 39.36"
      ]
     },
     "metadata": {},
     "output_type": "display_data"
    }
   ],
   "source": [
    "#Modelo parametrico\n",
    "\n",
    "exp_model = ExponentialFitter()\n",
    "exp_model.fit(df_final['duration_quarters'], event_observed=df_final['event'])\n",
    "exp_model.print_summary()"
   ]
  },
  {
   "cell_type": "code",
   "execution_count": 26,
   "id": "dfe67eba",
   "metadata": {},
   "outputs": [
    {
     "data": {
      "text/html": [
       "<div>\n",
       "<style scoped>\n",
       "    .dataframe tbody tr th:only-of-type {\n",
       "        vertical-align: middle;\n",
       "    }\n",
       "\n",
       "    .dataframe tbody tr th {\n",
       "        vertical-align: top;\n",
       "    }\n",
       "\n",
       "    .dataframe thead th {\n",
       "        text-align: right;\n",
       "    }\n",
       "</style>\n",
       "<table border=\"1\" class=\"dataframe\">\n",
       "  <tbody>\n",
       "    <tr>\n",
       "      <th>model</th>\n",
       "      <td>lifelines.WeibullFitter</td>\n",
       "    </tr>\n",
       "    <tr>\n",
       "      <th>number of observations</th>\n",
       "      <td>5</td>\n",
       "    </tr>\n",
       "    <tr>\n",
       "      <th>number of events observed</th>\n",
       "      <td>5</td>\n",
       "    </tr>\n",
       "    <tr>\n",
       "      <th>log-likelihood</th>\n",
       "      <td>-5.52</td>\n",
       "    </tr>\n",
       "    <tr>\n",
       "      <th>hypothesis</th>\n",
       "      <td>lambda_ != 1, rho_ != 1</td>\n",
       "    </tr>\n",
       "  </tbody>\n",
       "</table>\n",
       "</div><table border=\"1\" class=\"dataframe\">\n",
       "  <thead>\n",
       "    <tr style=\"text-align: right;\">\n",
       "      <th style=\"min-width: 12px;\"></th>\n",
       "      <th style=\"min-width: 12px;\">coef</th>\n",
       "      <th style=\"min-width: 12px;\">se(coef)</th>\n",
       "      <th style=\"min-width: 12px;\">coef lower 95%</th>\n",
       "      <th style=\"min-width: 12px;\">coef upper 95%</th>\n",
       "      <th style=\"min-width: 12px;\">cmp to</th>\n",
       "      <th style=\"min-width: 12px;\">z</th>\n",
       "      <th style=\"min-width: 12px;\">p</th>\n",
       "      <th style=\"min-width: 12px;\">-log2(p)</th>\n",
       "    </tr>\n",
       "  </thead>\n",
       "  <tbody>\n",
       "    <tr>\n",
       "      <th>lambda_</th>\n",
       "      <td>15.77</td>\n",
       "      <td>0.30</td>\n",
       "      <td>15.19</td>\n",
       "      <td>16.35</td>\n",
       "      <td>1.00</td>\n",
       "      <td>49.89</td>\n",
       "      <td>&lt;0.005</td>\n",
       "      <td>inf</td>\n",
       "    </tr>\n",
       "    <tr>\n",
       "      <th>rho_</th>\n",
       "      <td>25.11</td>\n",
       "      <td>9.20</td>\n",
       "      <td>7.08</td>\n",
       "      <td>43.14</td>\n",
       "      <td>1.00</td>\n",
       "      <td>2.62</td>\n",
       "      <td>0.01</td>\n",
       "      <td>6.84</td>\n",
       "    </tr>\n",
       "  </tbody>\n",
       "</table><br><div>\n",
       "<style scoped>\n",
       "    .dataframe tbody tr th:only-of-type {\n",
       "        vertical-align: middle;\n",
       "    }\n",
       "\n",
       "    .dataframe tbody tr th {\n",
       "        vertical-align: top;\n",
       "    }\n",
       "\n",
       "    .dataframe thead th {\n",
       "        text-align: right;\n",
       "    }\n",
       "</style>\n",
       "<table border=\"1\" class=\"dataframe\">\n",
       "  <tbody>\n",
       "    <tr>\n",
       "      <th>AIC</th>\n",
       "      <td>15.04</td>\n",
       "    </tr>\n",
       "  </tbody>\n",
       "</table>\n",
       "</div>"
      ],
      "text/latex": [
       "\\begin{tabular}{lrrrrrrrr}\n",
       " & coef & se(coef) & coef lower 95% & coef upper 95% & cmp to & z & p & -log2(p) \\\\\n",
       "lambda_ & 15.77 & 0.30 & 15.19 & 16.35 & 1.00 & 49.89 & 0.00 & inf \\\\\n",
       "rho_ & 25.11 & 9.20 & 7.08 & 43.14 & 1.00 & 2.62 & 0.01 & 6.84 \\\\\n",
       "\\end{tabular}\n"
      ],
      "text/plain": [
       "<lifelines.WeibullFitter:\"Weibull_estimate\", fitted with 5 total observations, 0 right-censored observations>\n",
       "   number of observations = 5\n",
       "number of events observed = 5\n",
       "           log-likelihood = -5.52\n",
       "               hypothesis = lambda_ != 1, rho_ != 1\n",
       "\n",
       "---\n",
       "         coef  se(coef)  coef lower 95%  coef upper 95%\n",
       "lambda_ 15.77      0.30           15.19           16.35\n",
       "rho_    25.11      9.20            7.08           43.14\n",
       "\n",
       "         cmp to     z      p  -log2(p)\n",
       "lambda_    1.00 49.89 <0.005       inf\n",
       "rho_       1.00  2.62   0.01      6.84\n",
       "---\n",
       "AIC = 15.04"
      ]
     },
     "metadata": {},
     "output_type": "display_data"
    }
   ],
   "source": [
    "# Weibull\n",
    "weibull_model = WeibullFitter()\n",
    "weibull_model.fit(df_final['duration_quarters'], event_observed=df_final['event'])\n",
    "weibull_model.print_summary()"
   ]
  },
  {
   "cell_type": "code",
   "execution_count": 33,
   "id": "1fb70a29",
   "metadata": {},
   "outputs": [
    {
     "data": {
      "text/html": [
       "<div>\n",
       "<style scoped>\n",
       "    .dataframe tbody tr th:only-of-type {\n",
       "        vertical-align: middle;\n",
       "    }\n",
       "\n",
       "    .dataframe tbody tr th {\n",
       "        vertical-align: top;\n",
       "    }\n",
       "\n",
       "    .dataframe thead th {\n",
       "        text-align: right;\n",
       "    }\n",
       "</style>\n",
       "<table border=\"1\" class=\"dataframe\">\n",
       "  <tbody>\n",
       "    <tr>\n",
       "      <th>model</th>\n",
       "      <td>lifelines.CoxPHFitter</td>\n",
       "    </tr>\n",
       "    <tr>\n",
       "      <th>duration col</th>\n",
       "      <td>'duration_quarters'</td>\n",
       "    </tr>\n",
       "    <tr>\n",
       "      <th>event col</th>\n",
       "      <td>'event'</td>\n",
       "    </tr>\n",
       "    <tr>\n",
       "      <th>baseline estimation</th>\n",
       "      <td>breslow</td>\n",
       "    </tr>\n",
       "    <tr>\n",
       "      <th>number of observations</th>\n",
       "      <td>5</td>\n",
       "    </tr>\n",
       "    <tr>\n",
       "      <th>number of events observed</th>\n",
       "      <td>5</td>\n",
       "    </tr>\n",
       "    <tr>\n",
       "      <th>partial log-likelihood</th>\n",
       "      <td>-4.29</td>\n",
       "    </tr>\n",
       "    <tr>\n",
       "      <th>time fit was run</th>\n",
       "      <td>2025-10-30 15:36:54 UTC</td>\n",
       "    </tr>\n",
       "  </tbody>\n",
       "</table>\n",
       "</div><table border=\"1\" class=\"dataframe\">\n",
       "  <thead>\n",
       "    <tr style=\"text-align: right;\">\n",
       "      <th style=\"min-width: 12px;\"></th>\n",
       "      <th style=\"min-width: 12px;\">coef</th>\n",
       "      <th style=\"min-width: 12px;\">exp(coef)</th>\n",
       "      <th style=\"min-width: 12px;\">se(coef)</th>\n",
       "      <th style=\"min-width: 12px;\">coef lower 95%</th>\n",
       "      <th style=\"min-width: 12px;\">coef upper 95%</th>\n",
       "      <th style=\"min-width: 12px;\">exp(coef) lower 95%</th>\n",
       "      <th style=\"min-width: 12px;\">exp(coef) upper 95%</th>\n",
       "      <th style=\"min-width: 12px;\">cmp to</th>\n",
       "      <th style=\"min-width: 12px;\">z</th>\n",
       "      <th style=\"min-width: 12px;\">p</th>\n",
       "      <th style=\"min-width: 12px;\">-log2(p)</th>\n",
       "    </tr>\n",
       "  </thead>\n",
       "  <tbody>\n",
       "    <tr>\n",
       "      <th>GDP</th>\n",
       "      <td>-3.12</td>\n",
       "      <td>0.04</td>\n",
       "      <td>3.28</td>\n",
       "      <td>-9.54</td>\n",
       "      <td>3.30</td>\n",
       "      <td>0.00</td>\n",
       "      <td>27.22</td>\n",
       "      <td>0.00</td>\n",
       "      <td>-0.95</td>\n",
       "      <td>0.34</td>\n",
       "      <td>1.55</td>\n",
       "    </tr>\n",
       "  </tbody>\n",
       "</table><br><div>\n",
       "<style scoped>\n",
       "    .dataframe tbody tr th:only-of-type {\n",
       "        vertical-align: middle;\n",
       "    }\n",
       "\n",
       "    .dataframe tbody tr th {\n",
       "        vertical-align: top;\n",
       "    }\n",
       "\n",
       "    .dataframe thead th {\n",
       "        text-align: right;\n",
       "    }\n",
       "</style>\n",
       "<table border=\"1\" class=\"dataframe\">\n",
       "  <tbody>\n",
       "    <tr>\n",
       "      <th>Concordance</th>\n",
       "      <td>0.75</td>\n",
       "    </tr>\n",
       "    <tr>\n",
       "      <th>Partial AIC</th>\n",
       "      <td>10.59</td>\n",
       "    </tr>\n",
       "    <tr>\n",
       "      <th>log-likelihood ratio test</th>\n",
       "      <td>0.99 on 1 df</td>\n",
       "    </tr>\n",
       "    <tr>\n",
       "      <th>-log2(p) of ll-ratio test</th>\n",
       "      <td>1.64</td>\n",
       "    </tr>\n",
       "  </tbody>\n",
       "</table>\n",
       "</div>"
      ],
      "text/latex": [
       "\\begin{tabular}{lrrrrrrrrrrr}\n",
       " & coef & exp(coef) & se(coef) & coef lower 95% & coef upper 95% & exp(coef) lower 95% & exp(coef) upper 95% & cmp to & z & p & -log2(p) \\\\\n",
       "covariate &  &  &  &  &  &  &  &  &  &  &  \\\\\n",
       "GDP & -3.12 & 0.04 & 3.28 & -9.54 & 3.30 & 0.00 & 27.22 & 0.00 & -0.95 & 0.34 & 1.55 \\\\\n",
       "\\end{tabular}\n"
      ],
      "text/plain": [
       "<lifelines.CoxPHFitter: fitted with 5 total observations, 0 right-censored observations>\n",
       "             duration col = 'duration_quarters'\n",
       "                event col = 'event'\n",
       "      baseline estimation = breslow\n",
       "   number of observations = 5\n",
       "number of events observed = 5\n",
       "   partial log-likelihood = -4.29\n",
       "         time fit was run = 2025-10-30 15:36:54 UTC\n",
       "\n",
       "---\n",
       "           coef exp(coef)  se(coef)  coef lower 95%  coef upper 95% exp(coef) lower 95% exp(coef) upper 95%\n",
       "covariate                                                                                                  \n",
       "GDP       -3.12      0.04      3.28           -9.54            3.30                0.00               27.22\n",
       "\n",
       "           cmp to     z    p  -log2(p)\n",
       "covariate                             \n",
       "GDP          0.00 -0.95 0.34      1.55\n",
       "---\n",
       "Concordance = 0.75\n",
       "Partial AIC = 10.59\n",
       "log-likelihood ratio test = 0.99 on 1 df\n",
       "-log2(p) of ll-ratio test = 1.64"
      ]
     },
     "metadata": {},
     "output_type": "display_data"
    }
   ],
   "source": [
    "cox = CoxPHFitter()\n",
    "cox.fit(df_final, duration_col='duration_quarters', event_col='event', formula=\"GDP\")\n",
    "cox.print_summary()"
   ]
  },
  {
   "cell_type": "code",
   "execution_count": 31,
   "id": "a0e05a3e",
   "metadata": {},
   "outputs": [
    {
     "data": {
      "application/vnd.microsoft.datawrangler.viewer.v0+json": {
       "columns": [
        {
         "name": "index",
         "rawType": "object",
         "type": "string"
        },
        {
         "name": "GDP",
         "rawType": "float64",
         "type": "float"
        },
        {
         "name": "Personal_Income",
         "rawType": "float64",
         "type": "float"
        }
       ],
       "ref": "4ed41fc7-b22f-4d4d-94b0-bf365c601fe8",
       "rows": [
        [
         "GDP",
         "1.0",
         "0.9980444105986856"
        ],
        [
         "Personal_Income",
         "0.9980444105986856",
         "1.0"
        ]
       ],
       "shape": {
        "columns": 2,
        "rows": 2
       }
      },
      "text/html": [
       "<div>\n",
       "<style scoped>\n",
       "    .dataframe tbody tr th:only-of-type {\n",
       "        vertical-align: middle;\n",
       "    }\n",
       "\n",
       "    .dataframe tbody tr th {\n",
       "        vertical-align: top;\n",
       "    }\n",
       "\n",
       "    .dataframe thead th {\n",
       "        text-align: right;\n",
       "    }\n",
       "</style>\n",
       "<table border=\"1\" class=\"dataframe\">\n",
       "  <thead>\n",
       "    <tr style=\"text-align: right;\">\n",
       "      <th></th>\n",
       "      <th>GDP</th>\n",
       "      <th>Personal_Income</th>\n",
       "    </tr>\n",
       "  </thead>\n",
       "  <tbody>\n",
       "    <tr>\n",
       "      <th>GDP</th>\n",
       "      <td>1.000000</td>\n",
       "      <td>0.998044</td>\n",
       "    </tr>\n",
       "    <tr>\n",
       "      <th>Personal_Income</th>\n",
       "      <td>0.998044</td>\n",
       "      <td>1.000000</td>\n",
       "    </tr>\n",
       "  </tbody>\n",
       "</table>\n",
       "</div>"
      ],
      "text/plain": [
       "                      GDP  Personal_Income\n",
       "GDP              1.000000         0.998044\n",
       "Personal_Income  0.998044         1.000000"
      ]
     },
     "execution_count": 31,
     "metadata": {},
     "output_type": "execute_result"
    }
   ],
   "source": [
    "df_final[['GDP','Personal_Income']].corr()"
   ]
  },
  {
   "cell_type": "code",
   "execution_count": 37,
   "id": "d58b3ded",
   "metadata": {},
   "outputs": [
    {
     "data": {
      "application/vnd.microsoft.datawrangler.viewer.v0+json": {
       "columns": [
        {
         "name": "index",
         "rawType": "object",
         "type": "string"
        },
        {
         "name": "GDP",
         "rawType": "float64",
         "type": "float"
        },
        {
         "name": "Personal_Income",
         "rawType": "float64",
         "type": "float"
        }
       ],
       "ref": "b51cf5a9-6e3d-41fb-9f6f-5db3136409df",
       "rows": [
        [
         "GDP",
         "1.0",
         "0.9019855260160098"
        ],
        [
         "Personal_Income",
         "0.9019855260160098",
         "1.0"
        ]
       ],
       "shape": {
        "columns": 2,
        "rows": 2
       }
      },
      "text/html": [
       "<div>\n",
       "<style scoped>\n",
       "    .dataframe tbody tr th:only-of-type {\n",
       "        vertical-align: middle;\n",
       "    }\n",
       "\n",
       "    .dataframe tbody tr th {\n",
       "        vertical-align: top;\n",
       "    }\n",
       "\n",
       "    .dataframe thead th {\n",
       "        text-align: right;\n",
       "    }\n",
       "</style>\n",
       "<table border=\"1\" class=\"dataframe\">\n",
       "  <thead>\n",
       "    <tr style=\"text-align: right;\">\n",
       "      <th></th>\n",
       "      <th>GDP</th>\n",
       "      <th>Personal_Income</th>\n",
       "    </tr>\n",
       "  </thead>\n",
       "  <tbody>\n",
       "    <tr>\n",
       "      <th>GDP</th>\n",
       "      <td>1.000000</td>\n",
       "      <td>0.901986</td>\n",
       "    </tr>\n",
       "    <tr>\n",
       "      <th>Personal_Income</th>\n",
       "      <td>0.901986</td>\n",
       "      <td>1.000000</td>\n",
       "    </tr>\n",
       "  </tbody>\n",
       "</table>\n",
       "</div>"
      ],
      "text/plain": [
       "                      GDP  Personal_Income\n",
       "GDP              1.000000         0.901986\n",
       "Personal_Income  0.901986         1.000000"
      ]
     },
     "execution_count": 37,
     "metadata": {},
     "output_type": "execute_result"
    }
   ],
   "source": [
    "base_cox = base_cox[base_cox['region']=='Centro']\n",
    "\n",
    "base_cox[['GDP','Personal_Income']].corr()"
   ]
  },
  {
   "cell_type": "code",
   "execution_count": null,
   "id": "2b4dae92",
   "metadata": {},
   "outputs": [],
   "source": []
  }
 ],
 "metadata": {
  "kernelspec": {
   "display_name": ".venv (3.14.0)",
   "language": "python",
   "name": "python3"
  },
  "language_info": {
   "codemirror_mode": {
    "name": "ipython",
    "version": 3
   },
   "file_extension": ".py",
   "mimetype": "text/x-python",
   "name": "python",
   "nbconvert_exporter": "python",
   "pygments_lexer": "ipython3",
   "version": "3.14.0"
  }
 },
 "nbformat": 4,
 "nbformat_minor": 5
}
